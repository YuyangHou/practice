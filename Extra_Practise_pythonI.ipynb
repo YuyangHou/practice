{
 "cells": [
  {
   "cell_type": "code",
   "execution_count": null,
   "metadata": {
    "collapsed": true
   },
   "outputs": [],
   "source": [
    "# Run this cell \n",
    "\n",
    "import numpy as np\n",
    "from datascience import *"
   ]
  },
  {
   "cell_type": "code",
   "execution_count": null,
   "metadata": {
    "collapsed": true
   },
   "outputs": [],
   "source": [
    "# Write a function that returns the number of years left for a person to be 100, given their age as input.\n",
    "...\n"
   ]
  },
  {
   "cell_type": "code",
   "execution_count": null,
   "metadata": {
    "collapsed": true
   },
   "outputs": [],
   "source": [
    "# Make an array of all even numbers from 0 to 200. \n",
    "..."
   ]
  },
  {
   "cell_type": "code",
   "execution_count": null,
   "metadata": {
    "collapsed": true
   },
   "outputs": [],
   "source": [
    "# Find the mean and sum of all the elements in the array above. \n",
    "..."
   ]
  },
  {
   "cell_type": "code",
   "execution_count": null,
   "metadata": {
    "collapsed": true
   },
   "outputs": [],
   "source": [
    "# Create a conditional such that it reports the grade given the percentage. \n",
    "# Boundaries should be: A>=90, 90>B>=80, 80>C>=70, 70>D>=65, 65>F\n",
    "..."
   ]
  },
  {
   "cell_type": "code",
   "execution_count": null,
   "metadata": {
    "collapsed": true
   },
   "outputs": [],
   "source": [
    "# Make a function from the conditional above which does the same task as the conditional.\n",
    "..."
   ]
  },
  {
   "cell_type": "code",
   "execution_count": null,
   "metadata": {
    "collapsed": true
   },
   "outputs": [],
   "source": [
    "# Create an array that contains numbers from 1 to 100 that are multiples of 3 \n",
    "by_3 = ...\n",
    "\n",
    "# Create a table from the array above with the column heading 'multiples of 3'\n",
    "table_by_3 = ..."
   ]
  },
  {
   "cell_type": "code",
   "execution_count": null,
   "metadata": {},
   "outputs": [],
   "source": [
    "# Create a function that generates a table containing the numbers from 1 to 100 that are multiples of the input.\n",
    "..."
   ]
  },
  {
   "cell_type": "code",
   "execution_count": null,
   "metadata": {
    "collapsed": true
   },
   "outputs": [],
   "source": [
    "# Create a while loop that prints \"I love Python\", while x is less than 100, and continuosly multiply x by 2.\n",
    "..."
   ]
  },
  {
   "cell_type": "code",
   "execution_count": null,
   "metadata": {
    "collapsed": true
   },
   "outputs": [],
   "source": [
    "# Create an if/else conditional such that it reports true if a = b, else reports false.\n",
    "..."
   ]
  },
  {
   "cell_type": "code",
   "execution_count": null,
   "metadata": {
    "collapsed": true
   },
   "outputs": [],
   "source": [
    "# Make an array with the names of 5 countries of your choosing. \n",
    "...\n",
    "\n",
    "# Make an array with fictional, five different 7-8 digit numbers, that represent the population of the earlier 5 countries.\n",
    "...\n",
    "\n",
    "# Make a table called 'population' with the first two arrays created in this cell. \n",
    "..."
   ]
  },
  {
   "cell_type": "code",
   "execution_count": null,
   "metadata": {
    "collapsed": true
   },
   "outputs": [],
   "source": [
    "# Sort this table in terms of descending population. \n",
    "..."
   ]
  },
  {
   "cell_type": "code",
   "execution_count": null,
   "metadata": {
    "collapsed": true
   },
   "outputs": [],
   "source": [
    "# Add one more row to the table with the name of another country and its population. \n",
    "..."
   ]
  },
  {
   "cell_type": "markdown",
   "metadata": {},
   "source": [
    "Now we will be working with calculation of simple interest. "
   ]
  },
  {
   "cell_type": "markdown",
   "metadata": {},
   "source": [
    "The formula to find SI is SI = (prt)/100\n",
    "where: p is principal amount, r is rate of interest and t is time"
   ]
  },
  {
   "cell_type": "code",
   "execution_count": null,
   "metadata": {
    "collapsed": true
   },
   "outputs": [],
   "source": [
    "# Find SI using variables when: \n",
    "p = 400\n",
    "r = 10\n",
    "t = 2\n",
    "\n",
    "SI = ...\n",
    "SI\n"
   ]
  },
  {
   "cell_type": "code",
   "execution_count": null,
   "metadata": {
    "collapsed": true
   },
   "outputs": [],
   "source": [
    "# This can easily be turned into a function. \n",
    "# Create a function that reports SI given p, r and t. \n",
    "SI_with(p, r, t):\n",
    "    \"\"\"reports interest given the principle, rate and time\"\"\"\n",
    "    ...\n",
    "    return \n"
   ]
  },
  {
   "cell_type": "code",
   "execution_count": null,
   "metadata": {
    "collapsed": true
   },
   "outputs": [],
   "source": [
    "# When is SI greater? \n",
    "p1 = 500\n",
    "r1 = 5\n",
    "t1 = 4\n",
    "...\n",
    "#OR\n",
    "p2 = 1000\n",
    "r2 = 2\n",
    "t2 = 7\n",
    "...\n"
   ]
  },
  {
   "cell_type": "code",
   "execution_count": null,
   "metadata": {
    "collapsed": true
   },
   "outputs": [],
   "source": [
    "# Write an if/else conditional that reports in which instance of any two SI problems, is simple interest greater. \n",
    "# Variables of first instance will always remain p1, r1 and t1. \n",
    "# Variables of second instance will always reamin p2, r2, and t2. \n",
    "# Hint: Use the earlier created function SI_with()\n",
    "\n",
    "..."
   ]
  }
 ],
 "metadata": {
  "kernelspec": {
   "display_name": "Python 3",
   "language": "python",
   "name": "python3"
  },
  "language_info": {
   "codemirror_mode": {
    "name": "ipython",
    "version": 3
   },
   "file_extension": ".py",
   "mimetype": "text/x-python",
   "name": "python",
   "nbconvert_exporter": "python",
   "pygments_lexer": "ipython3",
   "version": "3.6.1"
  }
 },
 "nbformat": 4,
 "nbformat_minor": 2
}
