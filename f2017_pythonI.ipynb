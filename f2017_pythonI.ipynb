{
 "cells": [
  {
   "cell_type": "markdown",
   "metadata": {
    "collapsed": true
   },
   "source": [
    "Welcome to the Python I workshop hosted by Data Science Society @ Berkeley. We are glad you decided to participate. The execises below are practise of what we've shown in the presentation. "
   ]
  },
  {
   "cell_type": "markdown",
   "metadata": {},
   "source": [
    "When we put in '...' we expect you to fill in that space with code."
   ]
  },
  {
   "cell_type": "markdown",
   "metadata": {},
   "source": [
    "# iPython Basics"
   ]
  },
  {
   "cell_type": "markdown",
   "metadata": {},
   "source": [
    "### How to run a cell"
   ]
  },
  {
   "cell_type": "markdown",
   "metadata": {},
   "source": [
    "In order to run a cell, we can use either (shift-enter) to run the current cell and move to the next one. Or we can use (ctrl-enter), to run the current cell and stay at the current cell"
   ]
  },
  {
   "cell_type": "code",
   "execution_count": null,
   "metadata": {},
   "outputs": [],
   "source": [
    "print (\"Run this line of code, and use shift-enter to go to the next\")"
   ]
  },
  {
   "cell_type": "code",
   "execution_count": null,
   "metadata": {},
   "outputs": [],
   "source": [
    "print (\"Stay in place using ctrl-enter\")"
   ]
  },
  {
   "cell_type": "markdown",
   "metadata": {},
   "source": [
    "-When the box is green, you are editing the contents of a cell.\n",
    "-When it is blue, we can use these shortcuts.\n",
    "-We can press 'esc' to enter notebook mode, 'enter' on a cell to modify it.\n",
    "-While in notebook mode, navigate using up and down arrow"
   ]
  },
  {
   "cell_type": "markdown",
   "metadata": {},
   "source": [
    "### Basic Python "
   ]
  },
  {
   "cell_type": "markdown",
   "metadata": {},
   "source": [
    "#### The print function "
   ]
  },
  {
   "cell_type": "code",
   "execution_count": null,
   "metadata": {},
   "outputs": [],
   "source": [
    "print('Hello World')"
   ]
  },
  {
   "cell_type": "markdown",
   "metadata": {},
   "source": [
    "#### Types of data "
   ]
  },
  {
   "cell_type": "code",
   "execution_count": null,
   "metadata": {},
   "outputs": [],
   "source": [
    "# Integer\n",
    "fruits = 5\n",
    "vegetables = 6\n",
    "grocery = fruits+vegetables\n",
    "print(grocery)\n",
    "\n",
    "# String\n",
    "car = \"Tesla\"\n",
    "lastinitial = \"a\" \n",
    "print(lastinitial)\n",
    "\n",
    "# Floating point (Decimals)\n",
    "# We can do different operations with it (addition, subtraction, multiplication, division)\n",
    "a = 5.0\n",
    "b = 3.26\n",
    "c = -4\n",
    "print(a+b+c)\n",
    "print(a*b*c)\n",
    "print(a+b-c)"
   ]
  },
  {
   "cell_type": "markdown",
   "metadata": {},
   "source": [
    "# Variables"
   ]
  },
  {
   "cell_type": "markdown",
   "metadata": {},
   "source": [
    "Run the cell below that assigns the variable days_in_a_leap_year to 366"
   ]
  },
  {
   "cell_type": "code",
   "execution_count": null,
   "metadata": {
    "collapsed": true
   },
   "outputs": [],
   "source": [
    "days_in_a_leap_year = 366"
   ]
  },
  {
   "cell_type": "markdown",
   "metadata": {},
   "source": [
    "Assign the variable days_in_a_normal_year to 365"
   ]
  },
  {
   "cell_type": "code",
   "execution_count": null,
   "metadata": {
    "collapsed": true
   },
   "outputs": [],
   "source": []
  },
  {
   "cell_type": "markdown",
   "metadata": {},
   "source": [
    "Find the total number of seconds in a decade using variables. "
   ]
  },
  {
   "cell_type": "code",
   "execution_count": null,
   "metadata": {
    "collapsed": true
   },
   "outputs": [],
   "source": [
    "seconds_in_a_day = ..."
   ]
  },
  {
   "cell_type": "code",
   "execution_count": null,
   "metadata": {
    "collapsed": true
   },
   "outputs": [],
   "source": [
    "hours_in_a_day = ..."
   ]
  },
  {
   "cell_type": "code",
   "execution_count": null,
   "metadata": {
    "collapsed": true
   },
   "outputs": [],
   "source": [
    "minutes_in_a_day = ..."
   ]
  },
  {
   "cell_type": "code",
   "execution_count": null,
   "metadata": {
    "collapsed": true
   },
   "outputs": [],
   "source": [
    "years_in_a_decade = ..."
   ]
  },
  {
   "cell_type": "code",
   "execution_count": null,
   "metadata": {},
   "outputs": [],
   "source": [
    "seconds_in_a_decade = ...\n",
    "\n",
    "\n",
    "seconds_in_a_decade"
   ]
  },
  {
   "cell_type": "markdown",
   "metadata": {
    "collapsed": true
   },
   "source": [
    "## Lists "
   ]
  },
  {
   "cell_type": "markdown",
   "metadata": {},
   "source": [
    "A list can be ascribed to be a collection of several characters, string and/or variables. "
   ]
  },
  {
   "cell_type": "code",
   "execution_count": null,
   "metadata": {
    "collapsed": true
   },
   "outputs": [],
   "source": [
    "#Run the following cell to make a list of the elements 1, 2, 3, 4\n",
    "\n",
    "list = ([1, 2, 3, 4])\n"
   ]
  },
  {
   "cell_type": "code",
   "execution_count": null,
   "metadata": {},
   "outputs": [],
   "source": [
    "#We can find the length of a list with the following function\n",
    "\n",
    "len(list)"
   ]
  },
  {
   "cell_type": "code",
   "execution_count": null,
   "metadata": {
    "collapsed": true
   },
   "outputs": [],
   "source": [
    "#Make a list with the names of your 3 top choices of ice-cream.\n",
    "my_icecream = ...\n",
    "\n"
   ]
  },
  {
   "cell_type": "markdown",
   "metadata": {},
   "source": [
    "## Conditionals"
   ]
  },
  {
   "cell_type": "code",
   "execution_count": null,
   "metadata": {},
   "outputs": [],
   "source": [
    "print(\"The & (and) operator compares two values and evaluates to True when both values are True\")\n",
    "print(True & False)\n",
    "print()\n",
    "print(\"The | (or) operator compares two values and evaluates to True when one or more of then are True\")\n",
    "print(True | False)\n",
    "print()\n",
    "print(\"The '==' operator compares two values and evaluates to True when both values are equal\")\n",
    "d = 7\n",
    "print(d == 7)\n",
    "print()\n",
    "print(\"The '!=' operator compares two values and evaluates to True when both values are not equal\")\n",
    "print(d != 5)\n",
    "print()\n",
    "print(\"In python, parentheses are evaluated first, then it goes left to right\")\n",
    "print((True & False) | (False | True))"
   ]
  },
  {
   "cell_type": "markdown",
   "metadata": {},
   "source": [
    "### If/Else Statements "
   ]
  },
  {
   "cell_type": "markdown",
   "metadata": {},
   "source": [
    "The If operator checks if the condition is satisfied. If it is not, it performs the action assigned to the else condition."
   ]
  },
  {
   "cell_type": "code",
   "execution_count": null,
   "metadata": {},
   "outputs": [],
   "source": [
    "x = 5\n",
    "y = 2\n",
    "if (x>y):\n",
    "    print (\"This is True!!\")\n",
    "else: \n",
    "    print (\"This is False!!\")\n",
    "# The if/else will go in order"
   ]
  },
  {
   "cell_type": "code",
   "execution_count": null,
   "metadata": {},
   "outputs": [],
   "source": [
    "#Set the variable x and y to a number such that it says \"This is False!!\"\n",
    "x = ...\n",
    "y = ...\n",
    "if (x>y): \n",
    "    print (\"This is True!!\")\n",
    "else: \n",
    "    print (\"This is False!!\")"
   ]
  },
  {
   "cell_type": "markdown",
   "metadata": {},
   "source": [
    "#### Nested IFs "
   ]
  },
  {
   "cell_type": "code",
   "execution_count": null,
   "metadata": {},
   "outputs": [],
   "source": [
    "x = 120\n",
    "if (1000<x<10000):\n",
    "    print (\"x is four digit\")\n",
    "if (100<x<1000):\n",
    "    print (\"x is three digit\")\n",
    "if (0<x<100):\n",
    "    print (\"x is two digit\")"
   ]
  },
  {
   "cell_type": "code",
   "execution_count": null,
   "metadata": {},
   "outputs": [],
   "source": [
    "#make a conditional such that:  \n",
    "#if x>0, 'positive' is reported; if x<0, 'negative' is reported; and if x is equal to 0, 'zero' is reported.\n",
    "...\n",
    "\n",
    "\n"
   ]
  },
  {
   "cell_type": "markdown",
   "metadata": {},
   "source": [
    "## Loops "
   ]
  },
  {
   "cell_type": "markdown",
   "metadata": {},
   "source": [
    "For loops are a convenient way for us to execute a specific code a set number of times."
   ]
  },
  {
   "cell_type": "code",
   "execution_count": null,
   "metadata": {},
   "outputs": [],
   "source": [
    "for i in range(1,5):\n",
    "    print(i)\n",
    "print()\n",
    "# The range function goes from the first argument, to the second bound, exclusive of the second bound.\n",
    "# If only one argument given, starts from 0\n",
    "for i in range(3):\n",
    "    print(i)"
   ]
  },
  {
   "cell_type": "code",
   "execution_count": null,
   "metadata": {
    "collapsed": true
   },
   "outputs": [],
   "source": [
    "#Print all the numbers between 0 up to and including 100. \n",
    "...\n"
   ]
  },
  {
   "cell_type": "code",
   "execution_count": null,
   "metadata": {},
   "outputs": [],
   "source": [
    "# We can also go through a list\n",
    "flowers = [\"Daisy\", \"Rose\", \"Tulip\", \"Hibiscus\"]\n",
    "for flower in flowers:\n",
    "    print(flower)"
   ]
  },
  {
   "cell_type": "code",
   "execution_count": null,
   "metadata": {
    "collapsed": true
   },
   "outputs": [],
   "source": [
    "# Go through your earlier defined list my_icecream\n",
    "...\n"
   ]
  },
  {
   "cell_type": "markdown",
   "metadata": {},
   "source": [
    "#### While loops are special ways for us to repeatedly run a chunk of code until the expression passed is no longer True"
   ]
  },
  {
   "cell_type": "code",
   "execution_count": null,
   "metadata": {},
   "outputs": [],
   "source": [
    "x = 0\n",
    "while (x < 10):\n",
    "    print(\"I love Python\")\n",
    "    x = x + 1"
   ]
  },
  {
   "cell_type": "code",
   "execution_count": null,
   "metadata": {},
   "outputs": [],
   "source": [
    "# Create a while loop that prints \"Hello World\", while x is less than 100, and continuosly multiply x by 5.\n",
    "x = 1\n",
    "...\n",
    "\n"
   ]
  },
  {
   "cell_type": "markdown",
   "metadata": {},
   "source": [
    "### List Comprehensions "
   ]
  },
  {
   "cell_type": "code",
   "execution_count": null,
   "metadata": {},
   "outputs": [],
   "source": [
    "# Let us put all the numbers from 0-50 in a list\n",
    "fifty_num = [x for x in range(50)]\n",
    "print(fifty_num)\n",
    "print()\n",
    "# Let us select every flower that isn't Rose. \n",
    "new_flowers = [flower for flower in flowers if flower != \"Rose\"]\n",
    "print(new_flowers)"
   ]
  },
  {
   "cell_type": "markdown",
   "metadata": {},
   "source": [
    "#### List Splicing"
   ]
  },
  {
   "cell_type": "code",
   "execution_count": null,
   "metadata": {},
   "outputs": [],
   "source": [
    "print(fifty_num)\n",
    "print(fifty_num[1:36]) # Prints index 1 to index 36, exclusive of 36\n",
    "# Syntax list[start:end:interval]\n",
    "print()\n",
    "print(fifty_num[48:3:-2]) # Prints the list backwards, starting from 48, to 3 exclusive of 3, by -2"
   ]
  },
  {
   "cell_type": "code",
   "execution_count": null,
   "metadata": {},
   "outputs": [],
   "source": [
    "#Make a list of the first 100 numbers from 1-100. \n",
    "#Print the list of 1-100 in multiples of 10. \n",
    "...\n"
   ]
  },
  {
   "cell_type": "markdown",
   "metadata": {},
   "source": [
    "## Functions "
   ]
  },
  {
   "cell_type": "markdown",
   "metadata": {
    "collapsed": true
   },
   "source": [
    "A function is a command that can produce a desired output from an input. The command that formulates a function can be generalised for inputs. "
   ]
  },
  {
   "cell_type": "code",
   "execution_count": null,
   "metadata": {},
   "outputs": [],
   "source": [
    "# Below is the example of a simple function. \n",
    "\n",
    "def double(input):\n",
    "    \"\"\"Doubles whatever number is assigned to input\"\"\"\n",
    "    return(input*input)\n",
    "double (2)"
   ]
  },
  {
   "cell_type": "code",
   "execution_count": null,
   "metadata": {
    "collapsed": true
   },
   "outputs": [],
   "source": [
    "# Below is a function that combines the if loop. \n",
    "\n",
    "def sign(x):\n",
    "    print(x, 'is', end=' ')\n",
    "    if x > 0:\n",
    "        print('positive')\n",
    "    if x < 0:\n",
    "        print('negative')\n",
    "    if x == 0:\n",
    "        print('zero')"
   ]
  },
  {
   "cell_type": "code",
   "execution_count": null,
   "metadata": {
    "collapsed": true
   },
   "outputs": [],
   "source": [
    "# Here is another function that returns the value 'True' or 'False' depending on whether \n",
    "# the input age falls within the age group defined for teenager. \n",
    "# Define the input range for x. \n",
    "def teen(x):\n",
    "    return ...<= x <= ...\n",
    "\n",
    "#Test your function"
   ]
  },
  {
   "cell_type": "code",
   "execution_count": null,
   "metadata": {
    "collapsed": true
   },
   "outputs": [],
   "source": [
    "# Make a function below that multiplies the input by 2 and then adds 7. \n",
    "...\n",
    "\n",
    "\n"
   ]
  },
  {
   "cell_type": "markdown",
   "metadata": {},
   "source": [
    "## Arrays"
   ]
  },
  {
   "cell_type": "markdown",
   "metadata": {},
   "source": [
    "For a collection of things in the world, an array is useful for describing a single attribute of each thing. "
   ]
  },
  {
   "cell_type": "code",
   "execution_count": null,
   "metadata": {
    "collapsed": true
   },
   "outputs": [],
   "source": [
    "#Run this cell\n",
    "import numpy as np"
   ]
  },
  {
   "cell_type": "code",
   "execution_count": null,
   "metadata": {},
   "outputs": [],
   "source": [
    "#We are going to make an array that contains numbers from 1 up to and including 100.\n",
    "\n",
    "one_hundred = np.arange(1, 101, 1) # Prints index 1 to index 101, exclusive of 101, with a difference of 1 between each.\n",
    "# Syntax np.arange(start,end,interval)\n",
    "one_hundred"
   ]
  },
  {
   "cell_type": "markdown",
   "metadata": {},
   "source": [
    "What if I want to perform operations like doubling all numbers by 2? Traditionally, I would have to double each element in the array. That is not very time-efficient. Thankfully, we can perform operations with the entire array, and each element will undergo the change we want it to."
   ]
  },
  {
   "cell_type": "code",
   "execution_count": null,
   "metadata": {},
   "outputs": [],
   "source": [
    "one_hundred*2"
   ]
  },
  {
   "cell_type": "code",
   "execution_count": null,
   "metadata": {},
   "outputs": [],
   "source": [
    "#squaring it\n",
    "squares = one_hundred*one_hundred\n",
    "squares"
   ]
  },
  {
   "cell_type": "code",
   "execution_count": null,
   "metadata": {},
   "outputs": [],
   "source": [
    "#finding the average of squares\n",
    "np.mean(squares)"
   ]
  },
  {
   "cell_type": "code",
   "execution_count": null,
   "metadata": {},
   "outputs": [],
   "source": [
    "#finding the sum of squares\n",
    "np.sum(squares)"
   ]
  },
  {
   "cell_type": "code",
   "execution_count": null,
   "metadata": {},
   "outputs": [],
   "source": [
    "# Arrays are indexed in the way that the first item is always 0.\n",
    "# If I want to find the first and second item of the array 'squares': \n",
    "square_of_one = squares.item(0)\n",
    "square_of_two = squares.item(1)\n",
    "print(square_of_one)\n",
    "print()\n",
    "print(square_of_two)"
   ]
  },
  {
   "cell_type": "code",
   "execution_count": null,
   "metadata": {},
   "outputs": [],
   "source": [
    "# Make an array of the cubes of the numbers between 1000 and 1100, inclusive of both. \n",
    "numbers = ...\n",
    "\n",
    "cubes = ...\n",
    "\n",
    "cubes\n"
   ]
  },
  {
   "cell_type": "code",
   "execution_count": null,
   "metadata": {},
   "outputs": [],
   "source": [
    "# Find the mean and sum of the cubes. \n",
    "\n",
    "...\n",
    "\n",
    "...\n",
    "\n",
    "# What is the cube of 1061?\n",
    "\n",
    "..."
   ]
  },
  {
   "cell_type": "markdown",
   "metadata": {},
   "source": [
    "!!Challenge:\n",
    "Use np.arange and the exponentiation operator ** to compute the first 30 powers of 2, starting from 2^0 and not inclusive of 2^30"
   ]
  },
  {
   "cell_type": "code",
   "execution_count": null,
   "metadata": {},
   "outputs": [],
   "source": [
    "#Note about exponentiation factor; This is how it works: \n",
    "\n",
    "3**2"
   ]
  },
  {
   "cell_type": "code",
   "execution_count": null,
   "metadata": {},
   "outputs": [],
   "source": [
    "powers_of_2 = ...\n",
    "\n",
    "powers_of_2"
   ]
  },
  {
   "cell_type": "markdown",
   "metadata": {},
   "source": [
    "## Tables "
   ]
  },
  {
   "cell_type": "code",
   "execution_count": null,
   "metadata": {
    "collapsed": true
   },
   "outputs": [],
   "source": [
    "# Run this cell\n",
    "\n",
    "from datascience import *"
   ]
  },
  {
   "cell_type": "code",
   "execution_count": null,
   "metadata": {},
   "outputs": [],
   "source": [
    "# The following data is 2016 sales figures for toyota cars.\n",
    "Cars = make_array(\"Toyota Camry\", \"Toyota Avalon\", \"Toyota Corolla\", \"Toyota Prius\")\n",
    "Sales = make_array(388618, 48080, 378210, 101340)\n",
    "Toyota_sales_by_model = Table().with_columns(\"Model\", Cars, \"Sales\", Sales)\n",
    "Toyota_sales_by_model"
   ]
  },
  {
   "cell_type": "code",
   "execution_count": null,
   "metadata": {},
   "outputs": [],
   "source": [
    "# The Toyota Yaris was left out. Add its name and sales to the original table. \n",
    "Yaris = ['Toyota Yaris', 38855]\n",
    "new_toyota_sales_by_model = Toyota_sales_by_model.with_row(Yaris)\n",
    "# When adding multiple rows, the code is Toyota_sales_by_model.with_row(Yaris).with_row(x).with_row(y)\n",
    "new_toyota_sales_by_model"
   ]
  },
  {
   "cell_type": "code",
   "execution_count": null,
   "metadata": {},
   "outputs": [],
   "source": [
    "#Let's sort the table by highest sales.\n",
    "new_toyota_sales_by_model.sort('Sales', descending = True)"
   ]
  },
  {
   "cell_type": "code",
   "execution_count": null,
   "metadata": {},
   "outputs": [],
   "source": [
    "# What if you want the sum and average sales for Toyota?\n",
    "# First select the data in the sales column \n",
    "sales_only = new_toyota_sales_by_model.column('Sales')\n",
    "# This returns an array of the data in sales. Sum this data. \n",
    "np.sum(sales_only)"
   ]
  },
  {
   "cell_type": "code",
   "execution_count": null,
   "metadata": {},
   "outputs": [],
   "source": [
    "# Finding the mean sales.\n",
    "np.mean(sales_only)"
   ]
  },
  {
   "cell_type": "code",
   "execution_count": null,
   "metadata": {},
   "outputs": [],
   "source": [
    "#'.column' selects data and makes them into an array. '.select' selects data and shows it in tabular format. \n",
    "# As seen: \n",
    "new_toyota_sales_by_model.select('Sales')\n",
    "# The above function is used to yield a column when you want to append it to another table, or just select it as the \n",
    "# only one to keep. "
   ]
  },
  {
   "cell_type": "code",
   "execution_count": null,
   "metadata": {},
   "outputs": [],
   "source": [
    "# Find models where sales are above 64000. \n",
    "sales_above = new_toyota_sales_by_model.where('Sales', are.above(64000))\n",
    "sales_above"
   ]
  },
  {
   "cell_type": "code",
   "execution_count": null,
   "metadata": {
    "collapsed": true
   },
   "outputs": [],
   "source": [
    "# Make an array containing the names of the models whose sales are above 64000.\n",
    "...\n"
   ]
  },
  {
   "cell_type": "code",
   "execution_count": null,
   "metadata": {},
   "outputs": [],
   "source": [
    "# Find models where sales are between 10000 and 40000.\n",
    "\n",
    "sales_between = new_toyota_sales_by_model.where('Sales', are.between(10000, 40000))\n",
    "sales_between"
   ]
  },
  {
   "cell_type": "code",
   "execution_count": null,
   "metadata": {},
   "outputs": [],
   "source": [
    "# Find the sales for the model Toyota Corolla\n",
    "\n",
    "corolla_sales = new_toyota_sales_by_model.where('Model', are.equal_to(\"Toyota Corolla\")).column('Sales')\n",
    "corolla_sales"
   ]
  },
  {
   "cell_type": "code",
   "execution_count": null,
   "metadata": {},
   "outputs": [],
   "source": [
    "#We want to add more toyota models to the sales data. \n",
    "Prius_C = ['Toyota Prius C', 20452]\n",
    "Toyota_Sequoia = ['Toyota Sequoia', 12771]\n",
    "Toyota_Cruiser = ['Toyota Land Cruiser', 3705]\n",
    "#Add the above three models to the table new_toyota_sales_by_model\n",
    "final_toyota_sales = ...\n",
    "final_toyota_sales"
   ]
  },
  {
   "cell_type": "code",
   "execution_count": null,
   "metadata": {
    "collapsed": true
   },
   "outputs": [],
   "source": [
    "# Make an array of models from final_toyota_sales where sales are between 100000 and 400000.\n",
    "...\n"
   ]
  },
  {
   "cell_type": "code",
   "execution_count": null,
   "metadata": {
    "collapsed": true
   },
   "outputs": [],
   "source": [
    "# Find the average sales of the models reported in the array above.\n",
    "...\n"
   ]
  },
  {
   "cell_type": "code",
   "execution_count": null,
   "metadata": {},
   "outputs": [],
   "source": [
    "top_10_movie_ratings = make_array(9.2, 9.2, 9., 8.9, 8.9, 8.9, 8.9, 8.9, 8.9, 8.8)\n",
    "top_10_movie_names = make_array(\n",
    "        'The Shawshank Redemption',\n",
    "        'The Godfather',\n",
    "        'The Godfather: Part II',\n",
    "        'Pulp Fiction',\n",
    "        \"Schindler's List\",\n",
    "        'The Lord of the Rings: The Return of the King',\n",
    "        '12 Angry Men',\n",
    "        'The Dark Knight',\n",
    "        'Il buono, il brutto, il cattivo',\n",
    "        'The Lord of the Rings: The Fellowship of the Ring')\n",
    "top_10_movie_years = (1994, 1972, 1974, 1994, 1993, 2003, 1957, 2008, 1966, 2001)\n",
    "\n",
    "#Make a table containing the above arrays, with the headings \"Year\", \"Name\" and \"Ratings\", in that order.\n",
    "top_10_movies = ...\n",
    "top_10_movies"
   ]
  },
  {
   "cell_type": "code",
   "execution_count": null,
   "metadata": {
    "collapsed": true
   },
   "outputs": [],
   "source": [
    "# Sort the table by descending years.\n",
    "..."
   ]
  },
  {
   "cell_type": "code",
   "execution_count": null,
   "metadata": {
    "collapsed": true
   },
   "outputs": [],
   "source": [
    "# Find the average rating of the movies released between 1990 and 2000, from the table top_10_movie_names.\n",
    "average_rating = ...\n",
    "average rating"
   ]
  },
  {
   "cell_type": "code",
   "execution_count": null,
   "metadata": {
    "collapsed": true
   },
   "outputs": [],
   "source": [
    "# Create a new table with only the columns \"Name\" and \"Rating\"\n",
    "year_dropped = ...\n",
    "year_dropped"
   ]
  },
  {
   "cell_type": "code",
   "execution_count": null,
   "metadata": {
    "collapsed": true
   },
   "outputs": [],
   "source": [
    "# Return an array of movies whose rating is equal to 8.9 \n",
    "rating_below_9 = ...\n",
    "rating_below_9"
   ]
  }
 ],
 "metadata": {
  "kernelspec": {
   "display_name": "Python 3",
   "language": "python",
   "name": "python3"
  },
  "language_info": {
   "codemirror_mode": {
    "name": "ipython",
    "version": 3
   },
   "file_extension": ".py",
   "mimetype": "text/x-python",
   "name": "python",
   "nbconvert_exporter": "python",
   "pygments_lexer": "ipython3",
   "version": "3.6.1"
  }
 },
 "nbformat": 4,
 "nbformat_minor": 2
}
