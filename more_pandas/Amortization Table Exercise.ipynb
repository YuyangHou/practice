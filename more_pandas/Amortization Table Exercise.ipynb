{
 "cells": [
  {
   "cell_type": "markdown",
   "metadata": {},
   "source": [
    "# Amortization Table Pandas Exercise"
   ]
  },
  {
   "cell_type": "code",
   "execution_count": 9,
   "metadata": {
    "collapsed": false
   },
   "outputs": [],
   "source": [
    "%matplotlib inline \n",
    "\n",
    "from pandas import DataFrame, Series\n",
    "import pandas as pd\n",
    "import numpy as np\n",
    "import matplotlib.pyplot as plt"
   ]
  },
  {
   "cell_type": "markdown",
   "metadata": {},
   "source": [
    "The objective of this exercise is to get you familiar with pandas and numpy syntax while also helping you a little in personal finance.\n",
    "An amortization table describes the process of paying down credit card or any other financial debt. It is useful to look at to consider how much you are currently paying each month, how long to get completely rid of debt, and how much money you save in the long run.\n",
    "There are many complicated debt instruments out there, but we will look at one of the more simpler cases which should be a good starting point.\n",
    "\n",
    "We will be constructing an amortization table assuming a fixed APR (annual percentage rate - very like interest rate) with fixed monthly payments and a fixed amount of financial debt. The process is described below:"
   ]
  },
  {
   "cell_type": "markdown",
   "metadata": {},
   "source": [
    "Start with \\$10,000 in financial debt with an APR of 14% and a fixed monthly payment of \\$400:"
   ]
  },
  {
   "cell_type": "code",
   "execution_count": 10,
   "metadata": {
    "collapsed": true
   },
   "outputs": [],
   "source": [
    "debt = 10000\n",
    "apr = 0.14\n",
    "monthly_payment = 400"
   ]
  },
  {
   "cell_type": "markdown",
   "metadata": {},
   "source": [
    "After one month, you pay a fixed total of \\$400. Some fraction of this will be used to pay off your interest:"
   ]
  },
  {
   "cell_type": "code",
   "execution_count": 11,
   "metadata": {
    "collapsed": false
   },
   "outputs": [
    {
     "data": {
      "text/plain": [
       "9716.666666666666"
      ]
     },
     "execution_count": 11,
     "metadata": {},
     "output_type": "execute_result"
    }
   ],
   "source": [
    "apr_per_month = apr/12\n",
    "interest = debt*apr_per_month\n",
    "debt_paid_down = monthly_payment - interest\n",
    "debt = debt - debt_paid_down\n",
    "debt"
   ]
  },
  {
   "cell_type": "markdown",
   "metadata": {},
   "source": [
    "After another month, you do this again:"
   ]
  },
  {
   "cell_type": "code",
   "execution_count": 12,
   "metadata": {
    "collapsed": false
   },
   "outputs": [
    {
     "data": {
      "text/plain": [
       "9430.027777777777"
      ]
     },
     "execution_count": 12,
     "metadata": {},
     "output_type": "execute_result"
    }
   ],
   "source": [
    "interest = debt*apr_per_month\n",
    "debt_paid_down = monthly_payment - interest\n",
    "debt = debt - debt_paid_down\n",
    "debt"
   ]
  },
  {
   "cell_type": "markdown",
   "metadata": {},
   "source": [
    "This can easily be turned into a function:"
   ]
  },
  {
   "cell_type": "code",
   "execution_count": 29,
   "metadata": {
    "collapsed": false
   },
   "outputs": [
    {
     "data": {
      "text/plain": [
       "9716.666666666666"
      ]
     },
     "execution_count": 29,
     "metadata": {},
     "output_type": "execute_result"
    }
   ],
   "source": [
    "def generateAmortRow(debt,apr,monthly_payment):\n",
    "\tapr_per_month = apr/12\n",
    "\tinterest = debt*apr_per_month\n",
    "\tdebt_paid_down = monthly_payment - interest\n",
    "\tupdated_debt = debt - debt_paid_down\n",
    "    \n",
    "\treturn updated_debt\n",
    "\n",
    "generateAmortRow(10000,0.14,400)"
   ]
  },
  {
   "cell_type": "markdown",
   "metadata": {},
   "source": [
    "But this isn't exactly useful - We need a full table and this is where DataFrames are useful.\n",
    "\n",
    "DataFrames are like matrices than can store many different kinds of data with convenient functions readily available to them. They can be constructed from a variety of methods - a dictionary, list, or Series. In our case, we will use a dictionary:\n"
   ]
  },
  {
   "cell_type": "code",
   "execution_count": 14,
   "metadata": {
    "collapsed": false
   },
   "outputs": [
    {
     "data": {
      "text/html": [
       "<div>\n",
       "<table border=\"1\" class=\"dataframe\">\n",
       "  <thead>\n",
       "    <tr style=\"text-align: right;\">\n",
       "      <th></th>\n",
       "      <th>debt_left</th>\n",
       "      <th>payment_to_debt</th>\n",
       "      <th>payment_to_interest</th>\n",
       "    </tr>\n",
       "  </thead>\n",
       "  <tbody>\n",
       "    <tr>\n",
       "      <th>0</th>\n",
       "      <td>9716.666667</td>\n",
       "      <td>283.333333</td>\n",
       "      <td>116.666667</td>\n",
       "    </tr>\n",
       "  </tbody>\n",
       "</table>\n",
       "</div>"
      ],
      "text/plain": [
       "     debt_left  payment_to_debt  payment_to_interest\n",
       "0  9716.666667       283.333333           116.666667"
      ]
     },
     "execution_count": 14,
     "metadata": {},
     "output_type": "execute_result"
    }
   ],
   "source": [
    "def generateAmortRow(debt,apr,monthly_payment):\n",
    "\tapr_per_month = apr/12\n",
    "\tinterest = debt*apr_per_month\n",
    "\tdebt_paid_down = monthly_payment - interest\n",
    "\tupdated_debt = debt - debt_paid_down\n",
    "\trow = {'debt_left': updated_debt, 'payment_to_debt': debt_paid_down, 'payment_to_interest': interest}\n",
    "\treturn row\n",
    "\n",
    "DataFrame(generateAmortRow(10000,0.14,400),index=[0]) #An index is required to give a row label to the DataFrame"
   ]
  },
  {
   "cell_type": "markdown",
   "metadata": {},
   "source": [
    "Great, now that we have a row, we need to iteratively do this a bunch of times until the debt balance reaches 0 and we can concatenate each row together to form our table. To do this, much like initializing an array, let's first initialize an empty DataFrame."
   ]
  },
  {
   "cell_type": "code",
   "execution_count": 16,
   "metadata": {
    "collapsed": true
   },
   "outputs": [],
   "source": [
    "amort_table = DataFrame()"
   ]
  },
  {
   "cell_type": "markdown",
   "metadata": {},
   "source": [
    "We can set our initial variables here:"
   ]
  },
  {
   "cell_type": "code",
   "execution_count": 17,
   "metadata": {
    "collapsed": true
   },
   "outputs": [],
   "source": [
    "debt = 10000\n",
    "apr = 0.14\n",
    "monthly_payment = 400\n",
    "index = 0 #to keep track of our row label"
   ]
  },
  {
   "cell_type": "markdown",
   "metadata": {},
   "source": [
    "And our while loop:"
   ]
  },
  {
   "cell_type": "code",
   "execution_count": 18,
   "metadata": {
    "collapsed": true
   },
   "outputs": [],
   "source": [
    "while debt > 0:\n",
    "\tnext_row = DataFrame(generateAmortRow(debt,apr,monthly_payment),index=[index])\n",
    "\tamort_table = pd.concat([amort_table,next_row],axis=0) #pd.concat with axis set to 0 appends two dataframes by row\n",
    "\t\n",
    "\t#Update parameters\n",
    "\tdebt = next_row.debt_left[index]\n",
    "\tindex += 1"
   ]
  },
  {
   "cell_type": "code",
   "execution_count": 19,
   "metadata": {
    "collapsed": false
   },
   "outputs": [
    {
     "data": {
      "text/plain": [
       "(30, 3)"
      ]
     },
     "execution_count": 19,
     "metadata": {},
     "output_type": "execute_result"
    }
   ],
   "source": [
    "amort_table.shape #Dimensions of our DataFrame"
   ]
  },
  {
   "cell_type": "code",
   "execution_count": 20,
   "metadata": {
    "collapsed": false
   },
   "outputs": [
    {
     "data": {
      "text/html": [
       "<div>\n",
       "<table border=\"1\" class=\"dataframe\">\n",
       "  <thead>\n",
       "    <tr style=\"text-align: right;\">\n",
       "      <th></th>\n",
       "      <th>debt_left</th>\n",
       "      <th>payment_to_debt</th>\n",
       "      <th>payment_to_interest</th>\n",
       "    </tr>\n",
       "  </thead>\n",
       "  <tbody>\n",
       "    <tr>\n",
       "      <th>0</th>\n",
       "      <td>9716.666667</td>\n",
       "      <td>283.333333</td>\n",
       "      <td>116.666667</td>\n",
       "    </tr>\n",
       "    <tr>\n",
       "      <th>1</th>\n",
       "      <td>9430.027778</td>\n",
       "      <td>286.638889</td>\n",
       "      <td>113.361111</td>\n",
       "    </tr>\n",
       "    <tr>\n",
       "      <th>2</th>\n",
       "      <td>9140.044769</td>\n",
       "      <td>289.983009</td>\n",
       "      <td>110.016991</td>\n",
       "    </tr>\n",
       "    <tr>\n",
       "      <th>3</th>\n",
       "      <td>8846.678624</td>\n",
       "      <td>293.366144</td>\n",
       "      <td>106.633856</td>\n",
       "    </tr>\n",
       "    <tr>\n",
       "      <th>4</th>\n",
       "      <td>8549.889875</td>\n",
       "      <td>296.788749</td>\n",
       "      <td>103.211251</td>\n",
       "    </tr>\n",
       "  </tbody>\n",
       "</table>\n",
       "</div>"
      ],
      "text/plain": [
       "     debt_left  payment_to_debt  payment_to_interest\n",
       "0  9716.666667       283.333333           116.666667\n",
       "1  9430.027778       286.638889           113.361111\n",
       "2  9140.044769       289.983009           110.016991\n",
       "3  8846.678624       293.366144           106.633856\n",
       "4  8549.889875       296.788749           103.211251"
      ]
     },
     "execution_count": 20,
     "metadata": {},
     "output_type": "execute_result"
    }
   ],
   "source": [
    "amort_table.head()"
   ]
  },
  {
   "cell_type": "markdown",
   "metadata": {},
   "source": [
    "Last row needs adjusting:"
   ]
  },
  {
   "cell_type": "code",
   "execution_count": 21,
   "metadata": {
    "collapsed": false
   },
   "outputs": [
    {
     "data": {
      "text/html": [
       "<div>\n",
       "<table border=\"1\" class=\"dataframe\">\n",
       "  <thead>\n",
       "    <tr style=\"text-align: right;\">\n",
       "      <th></th>\n",
       "      <th>debt_left</th>\n",
       "      <th>payment_to_debt</th>\n",
       "      <th>payment_to_interest</th>\n",
       "    </tr>\n",
       "  </thead>\n",
       "  <tbody>\n",
       "    <tr>\n",
       "      <th>25</th>\n",
       "      <td>1451.673045</td>\n",
       "      <td>378.646275</td>\n",
       "      <td>21.353725</td>\n",
       "    </tr>\n",
       "    <tr>\n",
       "      <th>26</th>\n",
       "      <td>1068.609230</td>\n",
       "      <td>383.063814</td>\n",
       "      <td>16.936186</td>\n",
       "    </tr>\n",
       "    <tr>\n",
       "      <th>27</th>\n",
       "      <td>681.076338</td>\n",
       "      <td>387.532892</td>\n",
       "      <td>12.467108</td>\n",
       "    </tr>\n",
       "    <tr>\n",
       "      <th>28</th>\n",
       "      <td>289.022228</td>\n",
       "      <td>392.054109</td>\n",
       "      <td>7.945891</td>\n",
       "    </tr>\n",
       "    <tr>\n",
       "      <th>29</th>\n",
       "      <td>-107.605846</td>\n",
       "      <td>396.628074</td>\n",
       "      <td>3.371926</td>\n",
       "    </tr>\n",
       "  </tbody>\n",
       "</table>\n",
       "</div>"
      ],
      "text/plain": [
       "      debt_left  payment_to_debt  payment_to_interest\n",
       "25  1451.673045       378.646275            21.353725\n",
       "26  1068.609230       383.063814            16.936186\n",
       "27   681.076338       387.532892            12.467108\n",
       "28   289.022228       392.054109             7.945891\n",
       "29  -107.605846       396.628074             3.371926"
      ]
     },
     "execution_count": 21,
     "metadata": {},
     "output_type": "execute_result"
    }
   ],
   "source": [
    "amort_table.tail()"
   ]
  },
  {
   "cell_type": "code",
   "execution_count": 22,
   "metadata": {
    "collapsed": false
   },
   "outputs": [
    {
     "data": {
      "text/html": [
       "<div>\n",
       "<table border=\"1\" class=\"dataframe\">\n",
       "  <thead>\n",
       "    <tr style=\"text-align: right;\">\n",
       "      <th></th>\n",
       "      <th>debt_left</th>\n",
       "      <th>payment_to_debt</th>\n",
       "      <th>payment_to_interest</th>\n",
       "    </tr>\n",
       "  </thead>\n",
       "  <tbody>\n",
       "    <tr>\n",
       "      <th>25</th>\n",
       "      <td>1451.673045</td>\n",
       "      <td>378.646275</td>\n",
       "      <td>21.353725</td>\n",
       "    </tr>\n",
       "    <tr>\n",
       "      <th>26</th>\n",
       "      <td>1068.609230</td>\n",
       "      <td>383.063814</td>\n",
       "      <td>16.936186</td>\n",
       "    </tr>\n",
       "    <tr>\n",
       "      <th>27</th>\n",
       "      <td>681.076338</td>\n",
       "      <td>387.532892</td>\n",
       "      <td>12.467108</td>\n",
       "    </tr>\n",
       "    <tr>\n",
       "      <th>28</th>\n",
       "      <td>289.022228</td>\n",
       "      <td>392.054109</td>\n",
       "      <td>7.945891</td>\n",
       "    </tr>\n",
       "    <tr>\n",
       "      <th>29</th>\n",
       "      <td>0.000000</td>\n",
       "      <td>289.022228</td>\n",
       "      <td>3.371926</td>\n",
       "    </tr>\n",
       "  </tbody>\n",
       "</table>\n",
       "</div>"
      ],
      "text/plain": [
       "      debt_left  payment_to_debt  payment_to_interest\n",
       "25  1451.673045       378.646275            21.353725\n",
       "26  1068.609230       383.063814            16.936186\n",
       "27   681.076338       387.532892            12.467108\n",
       "28   289.022228       392.054109             7.945891\n",
       "29     0.000000       289.022228             3.371926"
      ]
     },
     "execution_count": 22,
     "metadata": {},
     "output_type": "execute_result"
    }
   ],
   "source": [
    "payment_to_debt = amort_table.iloc[amort_table.shape[0]-2,0]\n",
    "last_debt_balance = 0\n",
    "\n",
    "amort_table.loc[amort_table.shape[0]-1,'debt_left'] = last_debt_balance\n",
    "amort_table.loc[amort_table.shape[0]-1,'payment_to_debt'] = payment_to_debt\n",
    "\n",
    "amort_table.tail()"
   ]
  },
  {
   "cell_type": "markdown",
   "metadata": {},
   "source": [
    "Let's also add three new columns: the monthly payment, the cumulative sum of payments to interest, and the cumulative sum of payments to everything."
   ]
  },
  {
   "cell_type": "code",
   "execution_count": 23,
   "metadata": {
    "collapsed": false
   },
   "outputs": [
    {
     "data": {
      "text/html": [
       "<div>\n",
       "<table border=\"1\" class=\"dataframe\">\n",
       "  <thead>\n",
       "    <tr style=\"text-align: right;\">\n",
       "      <th></th>\n",
       "      <th>debt_left</th>\n",
       "      <th>payment_to_debt</th>\n",
       "      <th>payment_to_interest</th>\n",
       "      <th>monthly_payment</th>\n",
       "      <th>cumulative_interest_paid</th>\n",
       "      <th>cumulative_paid_total</th>\n",
       "    </tr>\n",
       "  </thead>\n",
       "  <tbody>\n",
       "    <tr>\n",
       "      <th>0</th>\n",
       "      <td>9716.666667</td>\n",
       "      <td>283.333333</td>\n",
       "      <td>116.666667</td>\n",
       "      <td>400.0</td>\n",
       "      <td>116.666667</td>\n",
       "      <td>400.0</td>\n",
       "    </tr>\n",
       "    <tr>\n",
       "      <th>1</th>\n",
       "      <td>9430.027778</td>\n",
       "      <td>286.638889</td>\n",
       "      <td>113.361111</td>\n",
       "      <td>400.0</td>\n",
       "      <td>230.027778</td>\n",
       "      <td>800.0</td>\n",
       "    </tr>\n",
       "    <tr>\n",
       "      <th>2</th>\n",
       "      <td>9140.044769</td>\n",
       "      <td>289.983009</td>\n",
       "      <td>110.016991</td>\n",
       "      <td>400.0</td>\n",
       "      <td>340.044769</td>\n",
       "      <td>1200.0</td>\n",
       "    </tr>\n",
       "    <tr>\n",
       "      <th>3</th>\n",
       "      <td>8846.678624</td>\n",
       "      <td>293.366144</td>\n",
       "      <td>106.633856</td>\n",
       "      <td>400.0</td>\n",
       "      <td>446.678624</td>\n",
       "      <td>1600.0</td>\n",
       "    </tr>\n",
       "    <tr>\n",
       "      <th>4</th>\n",
       "      <td>8549.889875</td>\n",
       "      <td>296.788749</td>\n",
       "      <td>103.211251</td>\n",
       "      <td>400.0</td>\n",
       "      <td>549.889875</td>\n",
       "      <td>2000.0</td>\n",
       "    </tr>\n",
       "  </tbody>\n",
       "</table>\n",
       "</div>"
      ],
      "text/plain": [
       "     debt_left  payment_to_debt  payment_to_interest  monthly_payment  \\\n",
       "0  9716.666667       283.333333           116.666667            400.0   \n",
       "1  9430.027778       286.638889           113.361111            400.0   \n",
       "2  9140.044769       289.983009           110.016991            400.0   \n",
       "3  8846.678624       293.366144           106.633856            400.0   \n",
       "4  8549.889875       296.788749           103.211251            400.0   \n",
       "\n",
       "   cumulative_interest_paid  cumulative_paid_total  \n",
       "0                116.666667                  400.0  \n",
       "1                230.027778                  800.0  \n",
       "2                340.044769                 1200.0  \n",
       "3                446.678624                 1600.0  \n",
       "4                549.889875                 2000.0  "
      ]
     },
     "execution_count": 23,
     "metadata": {},
     "output_type": "execute_result"
    }
   ],
   "source": [
    "amort_table['monthly_payment'] = amort_table['payment_to_debt'] + amort_table['payment_to_interest']\n",
    "amort_table['cumulative_interest_paid'] = amort_table['payment_to_interest'].cumsum()\n",
    "amort_table['cumulative_paid_total'] = amort_table['monthly_payment'].cumsum()\n",
    "\n",
    "amort_table.head()"
   ]
  },
  {
   "cell_type": "markdown",
   "metadata": {},
   "source": [
    "And finally, we can plot how much you pay in interest over time as well as the steady decline in the amount of debt you have:"
   ]
  },
  {
   "cell_type": "code",
   "execution_count": 26,
   "metadata": {
    "collapsed": false
   },
   "outputs": [
    {
     "data": {
      "text/plain": [
       "<matplotlib.legend.Legend at 0x116e3b208>"
      ]
     },
     "execution_count": 26,
     "metadata": {},
     "output_type": "execute_result"
    },
    {
     "data": {
      "image/png": "[encoded data removed]",
      "text/plain": [
       "<matplotlib.figure.Figure at 0x116e3b128>"
      ]
     },
     "metadata": {},
     "output_type": "display_data"
    }
   ],
   "source": [
    "amort_table['cumulative_interest_paid'].plot()\n",
    "amort_table['debt_left'].plot()\n",
    "\n",
    "#Add a title, labels, and a legend too:\n",
    "plt.title(\"Timeline of Debt Balance and Interest Paid\")\n",
    "plt.xlabel(\"Months\")\n",
    "plt.ylabel(\"Dollars\")\n",
    "plt.legend(labels=['Interest','Balance'])"
   ]
  },
  {
   "cell_type": "markdown",
   "metadata": {},
   "source": [
    "Below is everything we've done to make the table but all wrapped in a function:"
   ]
  },
  {
   "cell_type": "code",
   "execution_count": 27,
   "metadata": {
    "collapsed": true
   },
   "outputs": [],
   "source": [
    "def generateAmortTable(Debt,Apr,Monthly_payment):\n",
    "\tamort_table = DataFrame()\n",
    "\n",
    "\tdebt = Debt\n",
    "\tapr = Apr\n",
    "\tmonthly_payment = Monthly_payment\n",
    "\tindex = 0 #to keep track of our row label\n",
    "\n",
    "\t#And our while loop:\n",
    "\twhile debt > 0:\n",
    "\t\tnext_row = DataFrame(generateAmortRow(debt,apr,monthly_payment),index=[index])\n",
    "\t\tamort_table = pd.concat([amort_table,next_row],axis=0) #pd.concat with axis set to 0 appends two dataframes by row\n",
    "\t\t\n",
    "\t\t#Update parameters\n",
    "\t\tdebt = next_row.debt_left[index]\n",
    "\t\tindex += 1\n",
    "\n",
    "\tpayment_to_debt = amort_table.iloc[amort_table.shape[0]-2,0]\n",
    "\tlast_debt_balance = 0\n",
    "\n",
    "\tamort_table.loc[amort_table.shape[0]-1,'debt_left'] = last_debt_balance\n",
    "\tamort_table.loc[amort_table.shape[0]-1,'payment_to_debt'] = payment_to_debt\n",
    "\n",
    "\tamort_table['monthly_payment'] = amort_table['payment_to_debt'] + amort_table['payment_to_interest']\n",
    "\tamort_table['cumulative_interest_paid'] = amort_table['payment_to_interest'].cumsum()\n",
    "\tamort_table['cumulative_paid_total'] = amort_table['monthly_payment'].cumsum()\n",
    "\n",
    "\treturn amort_table"
   ]
  },
  {
   "cell_type": "markdown",
   "metadata": {},
   "source": [
    "Now you can use this to refinance your credit card or student debt and see how much time and money you save!"
   ]
  },
  {
   "cell_type": "code",
   "execution_count": 28,
   "metadata": {
    "collapsed": false
   },
   "outputs": [
    {
     "data": {
      "image/png": "[encoded data removed]",
      "text/plain": [
       "<matplotlib.figure.Figure at 0x1173c4e80>"
      ]
     },
     "metadata": {},
     "output_type": "display_data"
    }
   ],
   "source": [
    "high_apr = generateAmortTable(10000,0.2,400)\n",
    "low_apr = generateAmortTable(10000,0.1,400)\n",
    "\n",
    "high_apr['cumulative_interest_paid'].plot()\n",
    "low_apr['cumulative_interest_paid'].plot()\n",
    "plt.legend(labels=['20% APR', '10% APR'])\n",
    "plt.title(\"Comparing Amount of Interest Paid for High vs. Low APR\")\n",
    "plt.xlabel(\"Months\")\n",
    "plt.ylabel(\"Dollars\")\n",
    "plt.ylim((0,5000))\n",
    "plt.show()"
   ]
  },
  {
   "cell_type": "code",
   "execution_count": null,
   "metadata": {
    "collapsed": true
   },
   "outputs": [],
   "source": []
  }
 ],
 "metadata": {
  "kernelspec": {
   "display_name": "Python 3",
   "language": "python",
   "name": "python3"
  },
  "language_info": {
   "codemirror_mode": {
    "name": "ipython",
    "version": 3
   },
   "file_extension": ".py",
   "mimetype": "text/x-python",
   "name": "python",
   "nbconvert_exporter": "python",
   "pygments_lexer": "ipython3",
   "version": "3.5.2"
  }
 },
 "nbformat": 4,
 "nbformat_minor": 0
}
